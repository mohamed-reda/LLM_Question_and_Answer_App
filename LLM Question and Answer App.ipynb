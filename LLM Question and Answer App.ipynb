{
 "cells": [
  {
   "cell_type": "markdown",
   "id": "32c225b4",
   "metadata": {},
   "source": [
    "## Let's use Proprietary LLM from - OpenAI"
   ]
  },
  {
   "cell_type": "markdown",
   "id": "f274e9c5",
   "metadata": {},
   "source": [
    "<font color='green'>\n",
    "Imports the Python built-in module called \"os.\"\n",
    "<br>This module provides a way to interact with the operating system, such as accessing environment variables, working with files and directories, executing shell commands, etc\n",
    "<br><br>\n",
    "The environ attribute is a dictionary-like object that contains the environment variables of the current operating system session\n",
    "<br><br>\n",
    "By accessing os.environ, you can retrieve and manipulate environment variables within your Python program. For example, you can retrieve the value of a specific environment variable using the syntax os.environ['VARIABLE_NAME'], where \"VARIABLE_NAME\" is the name of the environment variable you want to access.\n",
    "<font>"
   ]
  },
  {
   "cell_type": "code",
   "execution_count": 1,
   "id": "a4d278e8",
   "metadata": {},
   "outputs": [],
   "source": [
    "import os\n",
    "os.environ[\"OPENAI_API_KEY\"] = 'OPENAI_API_KEY'"
   ]
  },
  {
   "cell_type": "markdown",
   "id": "5aef06cb",
   "metadata": {},
   "source": [
    "<font color='green'>\n",
    "LangChain has built a Wrapper around OpenAI APIs, using which we can get access to all the services OpenAI provides.\n",
    "<br>\n",
    "The code snippet below imports a specific class called 'OpenAI'(Wrapper around OpenAI large language models) from the 'llms' module of the 'langchain' library.\n",
    "\n",
    "<br>https://python.langchain.com/en/latest/_modules/langchain/llms/openai.html\n",
    "<font>"
   ]
  },
  {
   "cell_type": "code",
   "execution_count": 2,
   "id": "db64eaa7",
   "metadata": {},
   "outputs": [],
   "source": [
    "from langchain.llms import OpenAI"
   ]
  },
  {
   "cell_type": "markdown",
   "id": "6a9d124f",
   "metadata": {},
   "source": [
    "<font color='green'>Here we are instantiating a language model object called OpenAI, for our natural language processing tasks.\n",
    "<br><br>\n",
    "The parameter model_name is provided with the value \"text-davinci-003\" which is a specific version or variant of a language model (examples - text-davinci-003, code-davinci-002, gpt-3.5-turbo, text-ada-001 and more).\n",
    "<font>"
   ]
  },
  {
   "cell_type": "code",
   "execution_count": 3,
   "id": "9a3be989",
   "metadata": {},
   "outputs": [
    {
     "name": "stderr",
     "output_type": "stream",
     "text": [
      "C:\\Users\\Nile Crocodile\\AppData\\Local\\Programs\\Python\\Python311\\Lib\\site-packages\\langchain\\llms\\openai.py:216: UserWarning: You are trying to use a chat model. This way of initializing it is no longer supported. Instead, please use: `from langchain.chat_models import ChatOpenAI`\n",
      "  warnings.warn(\n",
      "C:\\Users\\Nile Crocodile\\AppData\\Local\\Programs\\Python\\Python311\\Lib\\site-packages\\langchain\\llms\\openai.py:811: UserWarning: You are trying to use a chat model. This way of initializing it is no longer supported. Instead, please use: `from langchain.chat_models import ChatOpenAI`\n",
      "  warnings.warn(\n"
     ]
    }
   ],
   "source": [
    "llm = OpenAI(model_name=\"gpt-3.5-turbo\")"
   ]
  },
  {
   "cell_type": "markdown",
   "id": "396c7904",
   "metadata": {},
   "source": [
    "<font color='green'>\n",
    "Here language model is represented by the object \"llm,\" which is being utilized to generate a completion or response based on a specific query. \n",
    "<br><br>\n",
    "The query, stored in the \"our_query\" variable is bieng passed to the model through llm object.\n",
    "<font>"
   ]
  },
  {
   "cell_type": "code",
   "execution_count": 22,
   "id": "a2e267f6",
   "metadata": {},
   "outputs": [],
   "source": [
    "our_query = \"What is the currency of India?\"\n",
    "completion = llm(our_query)"
   ]
  },
  {
   "cell_type": "code",
   "execution_count": 23,
   "id": "39f1b87e",
   "metadata": {},
   "outputs": [
    {
     "name": "stdout",
     "output_type": "stream",
     "text": [
      "The currency of India is the Indian Rupee, abbreviated as INR.\n"
     ]
    }
   ],
   "source": [
    "print(completion)"
   ]
  },
  {
   "cell_type": "markdown",
   "id": "e2085724",
   "metadata": {},
   "source": [
    "## Let's use open-source LLM hosted on Hugging Face"
   ]
  },
  {
   "cell_type": "code",
   "execution_count": 21,
   "id": "a4ec8717",
   "metadata": {},
   "outputs": [
    {
     "name": "stdout",
     "output_type": "stream",
     "text": [
      "Collecting huggingface-hub==0.10.1\n",
      "  Using cached huggingface_hub-0.10.1-py3-none-any.whl.metadata (6.1 kB)\n",
      "Requirement already satisfied: filelock in c:\\users\\nile crocodile\\appdata\\roaming\\python\\python311\\site-packages (from huggingface-hub==0.10.1) (3.12.0)\n",
      "Requirement already satisfied: requests in c:\\users\\nile crocodile\\appdata\\local\\programs\\python\\python311\\lib\\site-packages (from huggingface-hub==0.10.1) (2.31.0)\n",
      "Requirement already satisfied: tqdm in c:\\users\\nile crocodile\\appdata\\local\\programs\\python\\python311\\lib\\site-packages (from huggingface-hub==0.10.1) (4.66.1)\n",
      "Requirement already satisfied: pyyaml>=5.1 in c:\\users\\nile crocodile\\appdata\\local\\programs\\python\\python311\\lib\\site-packages (from huggingface-hub==0.10.1) (6.0)\n",
      "Requirement already satisfied: typing-extensions>=3.7.4.3 in c:\\users\\nile crocodile\\appdata\\local\\programs\\python\\python311\\lib\\site-packages (from huggingface-hub==0.10.1) (4.9.0)\n",
      "Requirement already satisfied: packaging>=20.9 in c:\\users\\nile crocodile\\appdata\\local\\programs\\python\\python311\\lib\\site-packages (from huggingface-hub==0.10.1) (22.0)\n",
      "Requirement already satisfied: charset-normalizer<4,>=2 in c:\\users\\nile crocodile\\appdata\\local\\programs\\python\\python311\\lib\\site-packages (from requests->huggingface-hub==0.10.1) (3.3.2)\n",
      "Requirement already satisfied: idna<4,>=2.5 in c:\\users\\nile crocodile\\appdata\\local\\programs\\python\\python311\\lib\\site-packages (from requests->huggingface-hub==0.10.1) (3.4)\n",
      "Requirement already satisfied: urllib3<3,>=1.21.1 in c:\\users\\nile crocodile\\appdata\\local\\programs\\python\\python311\\lib\\site-packages (from requests->huggingface-hub==0.10.1) (1.26.18)\n",
      "Requirement already satisfied: certifi>=2017.4.17 in c:\\users\\nile crocodile\\appdata\\roaming\\python\\python311\\site-packages (from requests->huggingface-hub==0.10.1) (2023.5.7)\n",
      "Requirement already satisfied: colorama in c:\\users\\nile crocodile\\appdata\\local\\programs\\python\\python311\\lib\\site-packages (from tqdm->huggingface-hub==0.10.1) (0.4.6)\n",
      "Using cached huggingface_hub-0.10.1-py3-none-any.whl (163 kB)\n",
      "Installing collected packages: huggingface-hub\n",
      "Successfully installed huggingface-hub-0.10.1\n",
      "Note: you may need to restart the kernel to use updated packages.\n"
     ]
    },
    {
     "name": "stderr",
     "output_type": "stream",
     "text": [
      "\n",
      "[notice] A new release of pip is available: 23.3.2 -> 24.0\n",
      "[notice] To update, run: C:\\Users\\Nile Crocodile\\AppData\\Local\\Programs\\Python\\Python311\\python.exe -m pip install --upgrade pip\n"
     ]
    }
   ],
   "source": [
    "pip install huggingface-hub==0.10.1\n"
   ]
  },
  {
   "cell_type": "code",
   "execution_count": 24,
   "id": "18ba8425",
   "metadata": {},
   "outputs": [],
   "source": [
    "import os\n",
    "os.environ[\"HUGGINGFACEHUB_API_TOKEN\"] = \"HUGGINGFACEHUB_API_TOKEN\""
   ]
  },
  {
   "cell_type": "code",
   "execution_count": 25,
   "id": "9548eede",
   "metadata": {},
   "outputs": [],
   "source": [
    "from langchain.llms import HuggingFaceHub"
   ]
  },
  {
   "cell_type": "code",
   "execution_count": 26,
   "id": "099a0220",
   "metadata": {},
   "outputs": [],
   "source": [
    "llm = HuggingFaceHub(repo_id = \"google/flan-t5-large\")"
   ]
  },
  {
   "cell_type": "code",
   "execution_count": 27,
   "id": "3beee630",
   "metadata": {},
   "outputs": [],
   "source": [
    "# The LLM takes a prompt as an input and outputs a completion\n",
    "our_query = \"What is the currency of India?\"\n",
    "completion = llm(our_query)"
   ]
  },
  {
   "cell_type": "code",
   "execution_count": 28,
   "id": "259e2628",
   "metadata": {},
   "outputs": [
    {
     "name": "stdout",
     "output_type": "stream",
     "text": [
      "rupee\n"
     ]
    }
   ],
   "source": [
    "print(completion)"
   ]
  },
  {
   "cell_type": "code",
   "execution_count": null,
   "id": "d918f01c",
   "metadata": {},
   "outputs": [],
   "source": []
  }
 ],
 "metadata": {
  "kernelspec": {
   "display_name": "Python 3 (ipykernel)",
   "language": "python",
   "name": "python3"
  },
  "language_info": {
   "codemirror_mode": {
    "name": "ipython",
    "version": 3
   },
   "file_extension": ".py",
   "mimetype": "text/x-python",
   "name": "python",
   "nbconvert_exporter": "python",
   "pygments_lexer": "ipython3",
   "version": "3.11.0"
  }
 },
 "nbformat": 4,
 "nbformat_minor": 5
}
